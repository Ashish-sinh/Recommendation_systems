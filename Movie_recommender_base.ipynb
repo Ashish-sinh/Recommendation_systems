{
 "cells": [
  {
   "cell_type": "code",
   "execution_count": 2,
   "id": "da4cd2fc",
   "metadata": {},
   "outputs": [
    {
     "data": {
      "text/html": [
       "<div>\n",
       "<style scoped>\n",
       "    .dataframe tbody tr th:only-of-type {\n",
       "        vertical-align: middle;\n",
       "    }\n",
       "\n",
       "    .dataframe tbody tr th {\n",
       "        vertical-align: top;\n",
       "    }\n",
       "\n",
       "    .dataframe thead th {\n",
       "        text-align: right;\n",
       "    }\n",
       "</style>\n",
       "<table border=\"1\" class=\"dataframe\">\n",
       "  <thead>\n",
       "    <tr style=\"text-align: right;\">\n",
       "      <th></th>\n",
       "      <th>imdbId</th>\n",
       "      <th>title</th>\n",
       "      <th>releaseYear</th>\n",
       "      <th>releaseDate</th>\n",
       "      <th>genre</th>\n",
       "      <th>writers</th>\n",
       "      <th>actors</th>\n",
       "      <th>directors</th>\n",
       "      <th>sequel</th>\n",
       "      <th>hitFlop</th>\n",
       "    </tr>\n",
       "  </thead>\n",
       "  <tbody>\n",
       "    <tr>\n",
       "      <th>0</th>\n",
       "      <td>tt0118578</td>\n",
       "      <td>Albela</td>\n",
       "      <td>2001</td>\n",
       "      <td>20 Apr 2001</td>\n",
       "      <td>Romance</td>\n",
       "      <td>Honey Irani (screenplay) | Honey Irani (story)...</td>\n",
       "      <td>Govinda | Aishwarya Rai Bachchan | Jackie Shro...</td>\n",
       "      <td>Deepak Sareen</td>\n",
       "      <td>0.0</td>\n",
       "      <td>2</td>\n",
       "    </tr>\n",
       "  </tbody>\n",
       "</table>\n",
       "</div>"
      ],
      "text/plain": [
       "      imdbId   title  releaseYear  releaseDate    genre   \n",
       "0  tt0118578  Albela         2001  20 Apr 2001  Romance  \\\n",
       "\n",
       "                                             writers   \n",
       "0  Honey Irani (screenplay) | Honey Irani (story)...  \\\n",
       "\n",
       "                                              actors      directors  sequel   \n",
       "0  Govinda | Aishwarya Rai Bachchan | Jackie Shro...  Deepak Sareen     0.0  \\\n",
       "\n",
       "   hitFlop  \n",
       "0        2  "
      ]
     },
     "execution_count": 2,
     "metadata": {},
     "output_type": "execute_result"
    }
   ],
   "source": [
    "# import necessary libraries\n",
    "\n",
    "import numpy as np \n",
    "import pandas as pd \n",
    "import matplotlib.pyplot as plt \n",
    "\n",
    "# Load the data set\n",
    "movie = pd.read_csv('movie_detail.csv')\n",
    "movie.head(1)"
   ]
  },
  {
   "cell_type": "markdown",
   "id": "a2c134d7",
   "metadata": {},
   "source": [
    "# Data Preprocessing"
   ]
  },
  {
   "cell_type": "code",
   "execution_count": 3,
   "id": "df5623ea",
   "metadata": {},
   "outputs": [
    {
     "data": {
      "text/html": [
       "<div>\n",
       "<style scoped>\n",
       "    .dataframe tbody tr th:only-of-type {\n",
       "        vertical-align: middle;\n",
       "    }\n",
       "\n",
       "    .dataframe tbody tr th {\n",
       "        vertical-align: top;\n",
       "    }\n",
       "\n",
       "    .dataframe thead th {\n",
       "        text-align: right;\n",
       "    }\n",
       "</style>\n",
       "<table border=\"1\" class=\"dataframe\">\n",
       "  <thead>\n",
       "    <tr style=\"text-align: right;\">\n",
       "      <th></th>\n",
       "      <th>imdbId</th>\n",
       "      <th>title</th>\n",
       "      <th>genre</th>\n",
       "      <th>writers</th>\n",
       "      <th>actors</th>\n",
       "      <th>directors</th>\n",
       "      <th>hitFlop</th>\n",
       "    </tr>\n",
       "  </thead>\n",
       "  <tbody>\n",
       "    <tr>\n",
       "      <th>0</th>\n",
       "      <td>tt0118578</td>\n",
       "      <td>Albela</td>\n",
       "      <td>Romance</td>\n",
       "      <td>Honey Irani (screenplay) | Honey Irani (story)...</td>\n",
       "      <td>Govinda | Aishwarya Rai Bachchan | Jackie Shro...</td>\n",
       "      <td>Deepak Sareen</td>\n",
       "      <td>2</td>\n",
       "    </tr>\n",
       "  </tbody>\n",
       "</table>\n",
       "</div>"
      ],
      "text/plain": [
       "      imdbId   title    genre   \n",
       "0  tt0118578  Albela  Romance  \\\n",
       "\n",
       "                                             writers   \n",
       "0  Honey Irani (screenplay) | Honey Irani (story)...  \\\n",
       "\n",
       "                                              actors      directors  hitFlop  \n",
       "0  Govinda | Aishwarya Rai Bachchan | Jackie Shro...  Deepak Sareen        2  "
      ]
     },
     "execution_count": 3,
     "metadata": {},
     "output_type": "execute_result"
    }
   ],
   "source": [
    "# drop unwanted columns : \n",
    "\n",
    "movie.drop(columns =['releaseYear','releaseDate','sequel'],inplace = True) \n",
    "movie.head(1)"
   ]
  },
  {
   "cell_type": "code",
   "execution_count": 4,
   "id": "3b144557",
   "metadata": {},
   "outputs": [],
   "source": [
    "movie.isnull().sum() \n",
    "movie.dropna(inplace = True) # drop null vlues : "
   ]
  },
  {
   "cell_type": "code",
   "execution_count": 5,
   "id": "d91cdfe8",
   "metadata": {},
   "outputs": [
    {
     "data": {
      "text/plain": [
       "imdbId       0\n",
       "title        0\n",
       "genre        0\n",
       "writers      0\n",
       "actors       0\n",
       "directors    0\n",
       "hitFlop      0\n",
       "dtype: int64"
      ]
     },
     "execution_count": 5,
     "metadata": {},
     "output_type": "execute_result"
    }
   ],
   "source": [
    "# chek for the null values  : \n",
    "\n",
    "movie.isnull().sum()"
   ]
  },
  {
   "cell_type": "code",
   "execution_count": 6,
   "id": "fc682831",
   "metadata": {},
   "outputs": [],
   "source": [
    "# sentence = 'Honey Irani (screenplay) | Honey Irani (story) | Javed Siddiqui (dialogue)'\n",
    "\n",
    "def joiner(obj):\n",
    "    l=[] \n",
    "    for i in obj.split('|'): #split the string at 3 part at \"|\"\n",
    "        l.append(i.split('(')[0].strip())# split at \"(\" and fetch first part and strip with 0 tab \n",
    "        \n",
    "    return l \n"
   ]
  },
  {
   "cell_type": "code",
   "execution_count": 7,
   "id": "c076927d",
   "metadata": {},
   "outputs": [
    {
     "data": {
      "text/html": [
       "<div>\n",
       "<style scoped>\n",
       "    .dataframe tbody tr th:only-of-type {\n",
       "        vertical-align: middle;\n",
       "    }\n",
       "\n",
       "    .dataframe tbody tr th {\n",
       "        vertical-align: top;\n",
       "    }\n",
       "\n",
       "    .dataframe thead th {\n",
       "        text-align: right;\n",
       "    }\n",
       "</style>\n",
       "<table border=\"1\" class=\"dataframe\">\n",
       "  <thead>\n",
       "    <tr style=\"text-align: right;\">\n",
       "      <th></th>\n",
       "      <th>imdbId</th>\n",
       "      <th>title</th>\n",
       "      <th>genre</th>\n",
       "      <th>writers</th>\n",
       "      <th>actors</th>\n",
       "      <th>directors</th>\n",
       "      <th>hitFlop</th>\n",
       "    </tr>\n",
       "  </thead>\n",
       "  <tbody>\n",
       "    <tr>\n",
       "      <th>0</th>\n",
       "      <td>tt0118578</td>\n",
       "      <td>Albela</td>\n",
       "      <td>Romance</td>\n",
       "      <td>[Honey Irani, Honey Irani, Javed Siddiqui]</td>\n",
       "      <td>Govinda | Aishwarya Rai Bachchan | Jackie Shro...</td>\n",
       "      <td>Deepak Sareen</td>\n",
       "      <td>2</td>\n",
       "    </tr>\n",
       "    <tr>\n",
       "      <th>1</th>\n",
       "      <td>tt0169102</td>\n",
       "      <td>Lagaan: Once Upon a Time in India</td>\n",
       "      <td>Adventure | Drama | Musical</td>\n",
       "      <td>[Ashutosh Gowariker, Ashutosh Gowariker, Kumar...</td>\n",
       "      <td>Aamir Khan | Gracy Singh | Rachel Shelley | Pa...</td>\n",
       "      <td>Ashutosh Gowariker</td>\n",
       "      <td>6</td>\n",
       "    </tr>\n",
       "  </tbody>\n",
       "</table>\n",
       "</div>"
      ],
      "text/plain": [
       "      imdbId                              title                        genre   \n",
       "0  tt0118578                             Albela                      Romance  \\\n",
       "1  tt0169102  Lagaan: Once Upon a Time in India  Adventure | Drama | Musical   \n",
       "\n",
       "                                             writers   \n",
       "0         [Honey Irani, Honey Irani, Javed Siddiqui]  \\\n",
       "1  [Ashutosh Gowariker, Ashutosh Gowariker, Kumar...   \n",
       "\n",
       "                                              actors           directors   \n",
       "0  Govinda | Aishwarya Rai Bachchan | Jackie Shro...       Deepak Sareen  \\\n",
       "1  Aamir Khan | Gracy Singh | Rachel Shelley | Pa...  Ashutosh Gowariker   \n",
       "\n",
       "   hitFlop  \n",
       "0        2  \n",
       "1        6  "
      ]
     },
     "execution_count": 7,
     "metadata": {},
     "output_type": "execute_result"
    }
   ],
   "source": [
    "movie['writers'] = movie['writers'].apply(joiner)\n",
    "movie.head(2)"
   ]
  },
  {
   "cell_type": "code",
   "execution_count": 8,
   "id": "37521406",
   "metadata": {},
   "outputs": [],
   "source": [
    "def actor_joiner(obj):  \n",
    "    l=[] \n",
    "    for i in obj.split('|'):\n",
    "        l.append(i.strip())\n",
    "    return l "
   ]
  },
  {
   "cell_type": "code",
   "execution_count": 9,
   "id": "4fdff4d1",
   "metadata": {},
   "outputs": [
    {
     "data": {
      "text/html": [
       "<div>\n",
       "<style scoped>\n",
       "    .dataframe tbody tr th:only-of-type {\n",
       "        vertical-align: middle;\n",
       "    }\n",
       "\n",
       "    .dataframe tbody tr th {\n",
       "        vertical-align: top;\n",
       "    }\n",
       "\n",
       "    .dataframe thead th {\n",
       "        text-align: right;\n",
       "    }\n",
       "</style>\n",
       "<table border=\"1\" class=\"dataframe\">\n",
       "  <thead>\n",
       "    <tr style=\"text-align: right;\">\n",
       "      <th></th>\n",
       "      <th>imdbId</th>\n",
       "      <th>title</th>\n",
       "      <th>genre</th>\n",
       "      <th>writers</th>\n",
       "      <th>actors</th>\n",
       "      <th>directors</th>\n",
       "      <th>hitFlop</th>\n",
       "    </tr>\n",
       "  </thead>\n",
       "  <tbody>\n",
       "    <tr>\n",
       "      <th>0</th>\n",
       "      <td>tt0118578</td>\n",
       "      <td>Albela</td>\n",
       "      <td>Romance</td>\n",
       "      <td>[Honey Irani, Honey Irani, Javed Siddiqui]</td>\n",
       "      <td>[Govinda, Aishwarya Rai Bachchan, Jackie Shrof...</td>\n",
       "      <td>Deepak Sareen</td>\n",
       "      <td>2</td>\n",
       "    </tr>\n",
       "    <tr>\n",
       "      <th>1</th>\n",
       "      <td>tt0169102</td>\n",
       "      <td>Lagaan: Once Upon a Time in India</td>\n",
       "      <td>Adventure | Drama | Musical</td>\n",
       "      <td>[Ashutosh Gowariker, Ashutosh Gowariker, Kumar...</td>\n",
       "      <td>[Aamir Khan, Gracy Singh, Rachel Shelley, Paul...</td>\n",
       "      <td>Ashutosh Gowariker</td>\n",
       "      <td>6</td>\n",
       "    </tr>\n",
       "    <tr>\n",
       "      <th>3</th>\n",
       "      <td>tt0222024</td>\n",
       "      <td>Hum Tumhare Hain Sanam</td>\n",
       "      <td>Drama | Romance</td>\n",
       "      <td>[K.S. Adiyaman, Arun Kumar, Ashok Mehta, Reema...</td>\n",
       "      <td>[Shah Rukh Khan, Madhuri Dixit, Salman Khan, A...</td>\n",
       "      <td>K.S. Adiyaman</td>\n",
       "      <td>4</td>\n",
       "    </tr>\n",
       "  </tbody>\n",
       "</table>\n",
       "</div>"
      ],
      "text/plain": [
       "      imdbId                              title                        genre   \n",
       "0  tt0118578                             Albela                      Romance  \\\n",
       "1  tt0169102  Lagaan: Once Upon a Time in India  Adventure | Drama | Musical   \n",
       "3  tt0222024             Hum Tumhare Hain Sanam              Drama | Romance   \n",
       "\n",
       "                                             writers   \n",
       "0         [Honey Irani, Honey Irani, Javed Siddiqui]  \\\n",
       "1  [Ashutosh Gowariker, Ashutosh Gowariker, Kumar...   \n",
       "3  [K.S. Adiyaman, Arun Kumar, Ashok Mehta, Reema...   \n",
       "\n",
       "                                              actors           directors   \n",
       "0  [Govinda, Aishwarya Rai Bachchan, Jackie Shrof...       Deepak Sareen  \\\n",
       "1  [Aamir Khan, Gracy Singh, Rachel Shelley, Paul...  Ashutosh Gowariker   \n",
       "3  [Shah Rukh Khan, Madhuri Dixit, Salman Khan, A...       K.S. Adiyaman   \n",
       "\n",
       "   hitFlop  \n",
       "0        2  \n",
       "1        6  \n",
       "3        4  "
      ]
     },
     "execution_count": 9,
     "metadata": {},
     "output_type": "execute_result"
    }
   ],
   "source": [
    "movie['actors'] = movie['actors'].apply(actor_joiner)\n",
    "movie.head(3)"
   ]
  },
  {
   "cell_type": "code",
   "execution_count": 10,
   "id": "bd8fb908",
   "metadata": {},
   "outputs": [],
   "source": [
    "movie.drop(columns =['hitFlop'],inplace = True)"
   ]
  },
  {
   "cell_type": "code",
   "execution_count": 11,
   "id": "206a714d",
   "metadata": {},
   "outputs": [
    {
     "data": {
      "text/html": [
       "<div>\n",
       "<style scoped>\n",
       "    .dataframe tbody tr th:only-of-type {\n",
       "        vertical-align: middle;\n",
       "    }\n",
       "\n",
       "    .dataframe tbody tr th {\n",
       "        vertical-align: top;\n",
       "    }\n",
       "\n",
       "    .dataframe thead th {\n",
       "        text-align: right;\n",
       "    }\n",
       "</style>\n",
       "<table border=\"1\" class=\"dataframe\">\n",
       "  <thead>\n",
       "    <tr style=\"text-align: right;\">\n",
       "      <th></th>\n",
       "      <th>imdbId</th>\n",
       "      <th>title</th>\n",
       "      <th>genre</th>\n",
       "      <th>writers</th>\n",
       "      <th>actors</th>\n",
       "      <th>directors</th>\n",
       "    </tr>\n",
       "  </thead>\n",
       "  <tbody>\n",
       "    <tr>\n",
       "      <th>0</th>\n",
       "      <td>tt0118578</td>\n",
       "      <td>Albela</td>\n",
       "      <td>[Romance]</td>\n",
       "      <td>[Honey Irani, Honey Irani, Javed Siddiqui]</td>\n",
       "      <td>[Govinda, Aishwarya Rai Bachchan, Jackie Shrof...</td>\n",
       "      <td>Deepak Sareen</td>\n",
       "    </tr>\n",
       "    <tr>\n",
       "      <th>1</th>\n",
       "      <td>tt0169102</td>\n",
       "      <td>Lagaan: Once Upon a Time in India</td>\n",
       "      <td>[Adventure, Drama, Musical]</td>\n",
       "      <td>[Ashutosh Gowariker, Ashutosh Gowariker, Kumar...</td>\n",
       "      <td>[Aamir Khan, Gracy Singh, Rachel Shelley, Paul...</td>\n",
       "      <td>Ashutosh Gowariker</td>\n",
       "    </tr>\n",
       "  </tbody>\n",
       "</table>\n",
       "</div>"
      ],
      "text/plain": [
       "      imdbId                              title                        genre   \n",
       "0  tt0118578                             Albela                    [Romance]  \\\n",
       "1  tt0169102  Lagaan: Once Upon a Time in India  [Adventure, Drama, Musical]   \n",
       "\n",
       "                                             writers   \n",
       "0         [Honey Irani, Honey Irani, Javed Siddiqui]  \\\n",
       "1  [Ashutosh Gowariker, Ashutosh Gowariker, Kumar...   \n",
       "\n",
       "                                              actors           directors  \n",
       "0  [Govinda, Aishwarya Rai Bachchan, Jackie Shrof...       Deepak Sareen  \n",
       "1  [Aamir Khan, Gracy Singh, Rachel Shelley, Paul...  Ashutosh Gowariker  "
      ]
     },
     "execution_count": 11,
     "metadata": {},
     "output_type": "execute_result"
    }
   ],
   "source": [
    "movie['genre'] = movie['genre'].apply(actor_joiner)\n",
    "movie.head(2)"
   ]
  },
  {
   "cell_type": "code",
   "execution_count": 12,
   "id": "d5f5829d",
   "metadata": {},
   "outputs": [],
   "source": [
    "movie['directors'] = movie['directors'].apply(lambda x : x.split('|') if '|' in x else [x])\n",
    "# this make the x to list with(using this  [x]) and  also disjoint 2 director with split('|')\n"
   ]
  },
  {
   "cell_type": "code",
   "execution_count": 13,
   "id": "a8038a42",
   "metadata": {},
   "outputs": [],
   "source": [
    "# reset the index : \n",
    "movie.reset_index(drop=True, inplace= True)"
   ]
  },
  {
   "cell_type": "code",
   "execution_count": 14,
   "id": "94d93650",
   "metadata": {},
   "outputs": [],
   "source": [
    "movie['title'] = movie['title'].apply(lambda x : [x])"
   ]
  },
  {
   "cell_type": "code",
   "execution_count": 15,
   "id": "164366b8",
   "metadata": {},
   "outputs": [],
   "source": [
    "movie['tag'] = movie['title'] + movie['genre'] + movie['writers']+ movie['actors'] + movie['directors']"
   ]
  },
  {
   "cell_type": "code",
   "execution_count": 16,
   "id": "6a959bbe",
   "metadata": {},
   "outputs": [],
   "source": [
    "def jont(obj): \n",
    "    l=[]\n",
    "    for i in obj: \n",
    "        l.append(i.replace(' ','').lower())\n",
    "    return l \n",
    "# this function remove the spaces and convert the lower case :"
   ]
  },
  {
   "cell_type": "code",
   "execution_count": 17,
   "id": "a479b86f",
   "metadata": {},
   "outputs": [],
   "source": [
    "movie['tag'] = movie['tag'].apply(jont)"
   ]
  },
  {
   "cell_type": "code",
   "execution_count": 18,
   "id": "49f79715",
   "metadata": {},
   "outputs": [],
   "source": [
    "movie['tag'] = movie['tag'].apply(lambda x : \" \".join(x)) \n",
    "# this make all eliment of the x list to string by joining spaces between them"
   ]
  },
  {
   "cell_type": "code",
   "execution_count": 19,
   "id": "1182cdfd",
   "metadata": {},
   "outputs": [],
   "source": [
    "movie['title'] = movie['title'].apply(lambda x: str(x[0]))\n",
    "# it will make the list to string : "
   ]
  },
  {
   "cell_type": "code",
   "execution_count": 20,
   "id": "078adcba",
   "metadata": {},
   "outputs": [],
   "source": [
    "# now make the new data frame for the vectorization : \n",
    "df = movie[['imdbId','title','tag']]"
   ]
  },
  {
   "cell_type": "markdown",
   "id": "80d9aabf",
   "metadata": {},
   "source": [
    "#  Word Vectorization "
   ]
  },
  {
   "cell_type": "markdown",
   "id": "b36cbf5a",
   "metadata": {},
   "source": [
    "• vectorization is process in which we map words or phrases from vocabulary to a corresponding vector of real numbers which is used to find word predictions, similarities etc"
   ]
  },
  {
   "cell_type": "code",
   "execution_count": 21,
   "id": "34777758",
   "metadata": {},
   "outputs": [],
   "source": [
    "from sklearn.feature_extraction.text import CountVectorizer \n",
    "cv = CountVectorizer (stop_words='english',max_features = 2000)\n",
    "# this is the vetorization of the given tag colum  : \n",
    "# this will give the top 2000 most used word from the tag colum "
   ]
  },
  {
   "cell_type": "code",
   "execution_count": 22,
   "id": "00d62dfe",
   "metadata": {},
   "outputs": [],
   "source": [
    "vectors = cv.fit_transform(df['tag'])"
   ]
  },
  {
   "cell_type": "code",
   "execution_count": 23,
   "id": "9111aee7",
   "metadata": {},
   "outputs": [],
   "source": [
    "from sklearn.metrics.pairwise import cosine_similarity \n",
    "\n",
    "similarity_fector = cosine_similarity(vectors)"
   ]
  },
  {
   "cell_type": "code",
   "execution_count": 24,
   "id": "0f354a53",
   "metadata": {},
   "outputs": [],
   "source": [
    "def recomendation ( movie_name ):\n",
    "    movie_index = df[df['title'] == movie_name].index[0] \n",
    "    similer_movie_index = sorted(enumerate(similarity_fector[movie_index]),reverse=True, key = lambda x : x[1])[1:6]\n",
    "    movie_list = [] \n",
    "    for i in similer_movie_index : \n",
    "        movie_list.append(df.iloc[i[0],1]) \n",
    "    return movie_list[0],movie_list[1],movie_list[2],movie_list[3],movie_list[4]\n",
    "\n",
    " # hear in this function i[1] is use to fetch the every 2 eliment of the tuple of enumarate of the similarity_fector \n",
    "   # and iloc[x , 1] (1 is use for fetch the title name ) "
   ]
  },
  {
   "cell_type": "code",
   "execution_count": 25,
   "id": "1df30246",
   "metadata": {},
   "outputs": [
    {
     "data": {
      "text/plain": [
       "('Devdas',\n",
       " 'Chori Chori Chupke Chupke',\n",
       " 'Goliyon Ki Rasleela Ram-Leela',\n",
       " 'Yeh Kaisi Mohabbat',\n",
       " 'Black')"
      ]
     },
     "execution_count": 25,
     "metadata": {},
     "output_type": "execute_result"
    }
   ],
   "source": [
    "# make prediction : \n",
    "recomendation('Saawariya') "
   ]
  },
  {
   "cell_type": "code",
   "execution_count": 26,
   "id": "3c1986c1",
   "metadata": {},
   "outputs": [],
   "source": [
    "# dump  necessary information using pickle : \n",
    "\n",
    "import pickle  \n",
    "pickle.dump(recomendation ,open('/Users/user/Desktop/ashish/projects/recommendor.pkl','wb')) \n",
    "pickle.dump(df,open('/Users/user/Desktop/ashish/projects/df.pkl','wb'))\n",
    "pickle.dump(similarity_fector,open('/Users/user/Desktop/ashish/projects/sf.pkl','wb'))"
   ]
  },
  {
   "cell_type": "code",
   "execution_count": 27,
   "id": "547e238f",
   "metadata": {},
   "outputs": [],
   "source": []
  }
 ],
 "metadata": {
  "kernelspec": {
   "display_name": "Python 3 (ipykernel)",
   "language": "python",
   "name": "python3"
  },
  "language_info": {
   "codemirror_mode": {
    "name": "ipython",
    "version": 3
   },
   "file_extension": ".py",
   "mimetype": "text/x-python",
   "name": "python",
   "nbconvert_exporter": "python",
   "pygments_lexer": "ipython3",
   "version": "3.9.16"
  }
 },
 "nbformat": 4,
 "nbformat_minor": 5
}
